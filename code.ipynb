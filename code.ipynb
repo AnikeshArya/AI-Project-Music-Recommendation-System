{
 "cells": [
  {
   "cell_type": "markdown",
   "metadata": {},
   "source": [
    "# This music recommendation system is based on two recomendation models:\n",
    "## 1. Popularity Recommendation\n",
    "## 2. Similarity Recommendation\n",
    "\n",
    "# It uses this two recommendation models to predict songs for a user."
   ]
  },
  {
   "cell_type": "code",
   "execution_count": null,
   "metadata": {},
   "outputs": [],
   "source": [
    "# importing libraries\n",
    "import numpy as np\n",
    "import pandas"
   ]
  },
  {
   "cell_type": "markdown",
   "metadata": {},
   "source": [
    "## Popularity Recommendation:\n",
    "### This model recommends those songs which are popular in the users region. In other words, it predicts those songs to a user which are listened by most of the other users in his/her region."
   ]
  },
  {
   "cell_type": "code",
   "execution_count": 3,
   "metadata": {},
   "outputs": [],
   "source": [
    "#popularity recommender\n",
    "class popularity_recommender():\n",
    "    def __init__(self):\n",
    "        self.t_data = None\n",
    "        #id of the user\n",
    "        self.u_data = None \n",
    "        #id of the song listened by user\n",
    "        self.i_data = None\n",
    "        #gettin popularity\n",
    "        self.pop_recommendations = None\n",
    "        \n",
    "    #creating the system model\n",
    "    def create_p(self, t_data, u_id, i_id):\n",
    "        self.t_data = t_data\n",
    "        self.u_id = u_id\n",
    "        self.i_id = i_id\n",
    "        #calculating no. of times each song is listened as recommendation score\n",
    "        t_data_grouped = t_data.groupby([self.i_id]).agg({self.u_id: 'count'}).reset_index()\n",
    "        t_data_grouped.rename(columns = {'user_id': 'score'}, inplace = True)\n",
    "        #Sort the songs according to recommendation score\n",
    "        t_data_sort = t_data_grouped.sort_values(['score', self.i_id], ascending = [0, 1])\n",
    "        #Generating a recommendation rank based on recommedation score\n",
    "        t_data_sort['Rank'] = t_data_sort['score'].rank(ascending = 0, method = 'first')\n",
    "        # Getting top 10 recommendations\n",
    "        self.pop_recommendations = t_data_sort.head(10);\n",
    "    #using system model to give recommendations\n",
    "    def recommed_p(self, u_id):\n",
    "        u_recommendations = self.pop_recommendations;\n",
    "        #adding user_id column for which the recommended songs are generated\n",
    "        u_recommendations['user_id'] = u_id\n",
    "        #Bring user_id column to the front\n",
    "        cols = u_recommendations.columns.tolist()\n",
    "        cols = cols[-1:] + cols[: -1]\n",
    "        u_recommendations = u_recommendations[cols]\n",
    "        return u_recommendations"
   ]
  },
  {
   "cell_type": "code",
   "execution_count": null,
   "metadata": {},
   "outputs": [],
   "source": []
  }
 ],
 "metadata": {
  "kernelspec": {
   "display_name": "Python 3",
   "language": "python",
   "name": "python3"
  },
  "language_info": {
   "codemirror_mode": {
    "name": "ipython",
    "version": 3
   },
   "file_extension": ".py",
   "mimetype": "text/x-python",
   "name": "python",
   "nbconvert_exporter": "python",
   "pygments_lexer": "ipython3",
   "version": "3.7.3"
  }
 },
 "nbformat": 4,
 "nbformat_minor": 2
}
